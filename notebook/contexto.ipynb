{
 "cells": [
  {
   "cell_type": "markdown",
   "metadata": {},
   "source": [
    "# Contexto\n",
    "\n",
    "Uma empresa do ramo alimentício tem mais de 20 mil colaboradores em todo o Brasil. Com o passar dos anos a empresa percebeu um aumento no **custo do plano de saúde** com seus colaboradores. Como forma de entender esse comportamento, a gerência de Benefícios e Bem Estar da Diretoria de Pessoas conduziu uma pesquisa interna com um grupo de **1.338 colaboradores** sorteados aleatoriamente.\n",
    "\n",
    "A gerência acredita que fatores como fumo e obesidade podem estar relacionados com o maior uso do plano de saúde, o que acaba elevando os custos. Portanto, os colaboradores da pesquisa responderam características pessoais como o Índice de Massa Corpórea (IMC), quantidade de filhos e se fazem uso de cigarros.\n",
    "\n",
    "Com base nessas informações, pede-se:\n",
    "1. **Quais fatores estão mais relacionados com o Custo do Plano de Saúde na empresa?**\n",
    "2. **Que tipo de ações preventivas a empresa pode fazer de forma a diminuir esse custo?**"
   ]
  }
 ],
 "metadata": {
  "language_info": {
   "name": "python"
  }
 },
 "nbformat": 4,
 "nbformat_minor": 2
}
